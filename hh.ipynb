{
 "cells": [
  {
   "cell_type": "markdown",
   "metadata": {},
   "source": [
    "# Kriminal v Veliki Britaniji"
   ]
  },
  {
   "cell_type": "markdown",
   "metadata": {},
   "source": [
    "s pomočjo spletne strani [UK Crime Stats](https://www.ukcrimestats.com/Police_Force) bomo analizirali kriminal v Veliki Britaniji v preteklem letu. Predvsem bomo poskušali odgovoriti na sledeča vprašanja:\n",
    "- Kako se je gibalo število kriminala čez leto?\n",
    "- Katero območje je najbolj varno za turiste?\n",
    "- kakšna je verjetnost, da je zločin storjen zoper naključnega človeka?"
   ]
  },
  {
   "cell_type": "markdown",
   "metadata": {},
   "source": [
    "## Uvod"
   ]
  },
  {
   "cell_type": "markdown",
   "metadata": {},
   "source": [
    "uvod"
   ]
  },
  {
   "cell_type": "markdown",
   "metadata": {},
   "source": [
    "## Analiza"
   ]
  },
  {
   "cell_type": "markdown",
   "metadata": {},
   "source": [
    "Najprej si oglejmo v kakšni obliki smo prejeli podatke iz interneta. Za primer vzemimo spodnjo tabelo. Na enak način namreč tudi za druge policijske enote dobimo 12 vrstic, kjer vsaka zajema število prekrškov, prijavljenih v mesecu, ki je razviden iz prvega stolpca. Tako imamo torej za obdobje enega leta (od septembra 2022 do avgusta 2023) zabeleženo število antisocialnega vedenja, vlomov, ropov, vozniških prekrškov, prekrškov nasilja, kraje v trgovinah, požigi in poškodovanje lastnine, ostale kraje, prekrški povezani z drogami, nespecificirani/preostali prekrški, kraja kolesa, nezakonito posedovanje orožja, motenje javnega miru in oropanje osebe. Podatki v tabeli si po stolpcih sledijo v tem vrstnem redu. Antisocialno vedenje je opredeljeno kot vedenje ki škoduje, nadleguje ali vznemirja posameznika/-e, ki ne prebiva v istem gospodinjstvu (onesnaževanje, grožnje, pitje v javnosti, spolne službe, nelegalna uporaba pirotehnike itd.))"
   ]
  },
  {
   "cell_type": "code",
   "execution_count": null,
   "metadata": {},
   "outputs": [],
   "source": [
    "tu naj bi bila tabela"
   ]
  },
  {
   "cell_type": "markdown",
   "metadata": {},
   "source": [
    "Da odgovorimo na zastavljena vprašanja, si najprej oglejmo, kako se je število posameznih prekrškov gibalo čez leto. Sledeči graf prikazuje, kako se je tekom leta gibalo skupno število prekrškov (vse vrste kraj so štete v eno spremenljivko)"
   ]
  },
  {
   "cell_type": "code",
   "execution_count": null,
   "metadata": {},
   "outputs": [],
   "source": [
    "graf ln260"
   ]
  },
  {
   "cell_type": "markdown",
   "metadata": {},
   "source": [
    "Kot lahko opazimo bla bla bla"
   ]
  },
  {
   "cell_type": "markdown",
   "metadata": {},
   "source": [
    "Da bi izvedeli, katero območje je najbolj varno za turiste, moramo pogledati, kako pogosti so prekrški, ki bi lahko ogrožali varnost turista glede na velikost populacije. Prekrški, ki bi se lahko zgodili turistu vključujejo nasilje, vlomi, ropi, kraje, požigi in poškodovanje lastnine, ilegalno posedovanje orožja, oropanje osebe ter prištejmo še nespecificirane/ostale prekrške. Populacijo določene regije pa ne dobimo na spletni strani te regije, temveč pa na osnovni strani [UK Crime Stats](https://www.ukcrimestats.com/Police_Forces/), katere kodo smo zajeli v datoteko [stran_osnova.html](stran_osnova.html). Tekom analize zanemarjamo spremembe v populaciji, saj podatki niso povsem natančni, niti spremembe niso dovolj velike, da bi bistveno vplivale na rezultate."
   ]
  },
  {
   "cell_type": "code",
   "execution_count": null,
   "metadata": {},
   "outputs": [],
   "source": [
    "graf    jnjnj"
   ]
  },
  {
   "cell_type": "markdown",
   "metadata": {},
   "source": [
    "ugotovitev iz grafa"
   ]
  },
  {
   "cell_type": "markdown",
   "metadata": {},
   "source": [
    "Sedaj si lahko ogledamo tudi kateri mesec je najvarnejši v tej regiji za turista. Torej po mesecih pogledamo pogostost prej naštetih prekrškov in poiščemo tistega z najmanj prekrški. "
   ]
  },
  {
   "cell_type": "code",
   "execution_count": null,
   "metadata": {},
   "outputs": [],
   "source": [
    "iztfiztf"
   ]
  },
  {
   "cell_type": "markdown",
   "metadata": {},
   "source": [
    "Lahko torej povzamemo, da je za turista najvarnejši izlet v to regijo v tem mesecu."
   ]
  },
  {
   "cell_type": "markdown",
   "metadata": {},
   "source": [
    "Sedaj si oglejmo še kakšna je možnost, da se kakeršenkoli zločin zgodi naključno izbranemu človeku v neki regiji."
   ]
  }
 ],
 "metadata": {
  "kernelspec": {
   "display_name": "Python 3",
   "language": "python",
   "name": "python3"
  },
  "language_info": {
   "codemirror_mode": {
    "name": "ipython",
    "version": 3
   },
   "file_extension": ".py",
   "mimetype": "text/x-python",
   "name": "python",
   "nbconvert_exporter": "python",
   "pygments_lexer": "ipython3",
   "version": "3.7.4"
  }
 },
 "nbformat": 4,
 "nbformat_minor": 2
}
